{
 "cells": [
  {
   "cell_type": "code",
   "execution_count": null,
   "metadata": {},
   "outputs": [],
   "source": [
    "import numpy as np\n",
    "import torch\n",
    "\n",
    "from torch.nn import functional as F\n",
    "from torch.utils.data import DataLoader\n",
    "import util\n",
    "import geometry\n",
    "import cv2\n",
    "import os \n",
    "import pdb\n",
    "import matplotlib.pyplot as plt\n",
    "from pyntcloud import PyntCloud\n",
    "import pandas as pd\n",
    "import models\n",
    "import hdf5_dataio\n",
    "import glob\n",
    "import data_util\n",
    "from skimage.metrics import structural_similarity\n",
    "\n",
    "import synthesize_novel_views\n",
    "\n",
    "import wandb\n",
    "%load_ext autoreload\n",
    "%autoreload 2"
   ]
  },
  {
   "cell_type": "code",
   "execution_count": null,
   "metadata": {},
   "outputs": [],
   "source": [
    "checkpoint_path = 'YOUR MODEL CHECKPOINT PATH'\n",
    "network = 'relu' ##model parameters\n",
    "conditioning = 'hyper' ## model parameter\n",
    "data_root = 'LOCATION THE DATASET in hdf5 format'\n",
    "data_root_images = 'LOCATION OF THE DATASET (IMAGES)'\n",
    "img_sidelength = 128 ## model parameter\n",
    "max_num_instances = None ## model parameter\n",
    "specific_observation_idcs = [44] ## model parameter"
   ]
  },
  {
   "cell_type": "code",
   "execution_count": null,
   "metadata": {
    "scrolled": true
   },
   "outputs": [],
   "source": [
    "model = models.LFAutoDecoder(num_instances=2154, latent_dim=256, parameterization='plucker', network=network,\n",
    "                             conditioning=conditioning)"
   ]
  },
  {
   "cell_type": "code",
   "execution_count": null,
   "metadata": {},
   "outputs": [],
   "source": [
    "state_dict = torch.load(checkpoint_path)\n",
    "num_instances = state_dict['latent_codes.weight'].shape[0]"
   ]
  },
  {
   "cell_type": "code",
   "execution_count": null,
   "metadata": {},
   "outputs": [],
   "source": [
    "model.load_state_dict(state_dict)\n",
    "model.eval()"
   ]
  },
  {
   "cell_type": "code",
   "execution_count": null,
   "metadata": {},
   "outputs": [],
   "source": [
    "dataset = hdf5_dataio.SceneClassDataset(num_context=0,\n",
    "                                                data_root=data_root,\n",
    "                                                img_sidelength=img_sidelength,\n",
    "                                                num_trgt=1,\n",
    "                                                max_num_instances=max_num_instances,\n",
    "                                                specific_observation_idcs=[44])"
   ]
  },
  {
   "cell_type": "code",
   "execution_count": null,
   "metadata": {},
   "outputs": [],
   "source": [
    "dataloader = DataLoader(dataset, batch_size=1, shuffle=True,\n",
    "                                  drop_last=True, num_workers=0)"
   ]
  },
  {
   "cell_type": "code",
   "execution_count": null,
   "metadata": {},
   "outputs": [],
   "source": [
    "print(f\"the number of batches {len(dataloader)}\")"
   ]
  },
  {
   "cell_type": "code",
   "execution_count": null,
   "metadata": {},
   "outputs": [],
   "source": [
    "first_batch = iter(dataloader).next()\n",
    "q0, gt = first_batch"
   ]
  },
  {
   "cell_type": "code",
   "execution_count": null,
   "metadata": {},
   "outputs": [],
   "source": [
    "\"\"\"\n",
    "    Obtain some random poses, the model will synthesize theses poses based on an image that does not correspond to that pose\n",
    "    e.g. \n",
    "    image corresponds to front of the car, pose correspond to the side of the car\n",
    "    \n",
    "    output => image of side of the car\n",
    "\"\"\"\n",
    "\n",
    "poses, pose_image_ids = synthesize_novel_views.pose_predictor_information(q0['query'], dataset_location) ## dataset location should point to where the images are..."
   ]
  },
  {
   "cell_type": "code",
   "execution_count": null,
   "metadata": {},
   "outputs": [],
   "source": [
    "synthesize_novel_views.pose_predictor(model,q0,poses, pose_image_ids, novel_views_output_dir) ## novel views output dir should point to where you would like the output to be stored"
   ]
  }
 ],
 "metadata": {
  "kernelspec": {
   "display_name": "Python 3.8.5 ('base')",
   "language": "python",
   "name": "python3"
  },
  "language_info": {
   "codemirror_mode": {
    "name": "ipython",
    "version": 3
   },
   "file_extension": ".py",
   "mimetype": "text/x-python",
   "name": "python",
   "nbconvert_exporter": "python",
   "pygments_lexer": "ipython3",
   "version": "3.8.5"
  },
  "vscode": {
   "interpreter": {
    "hash": "6e61a4344227879a077d5be1efb177784cf1874796e6ee3c82cd79cdb18ba836"
   }
  }
 },
 "nbformat": 4,
 "nbformat_minor": 4
}
