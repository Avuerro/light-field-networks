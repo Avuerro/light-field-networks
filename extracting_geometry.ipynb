{
 "cells": [
  {
   "cell_type": "code",
   "execution_count": 1,
   "metadata": {},
   "outputs": [
    {
     "name": "stdout",
     "output_type": "stream",
     "text": [
      "Jupyter environment detected. Enabling Open3D WebVisualizer.\n",
      "[Open3D INFO] WebRTC GUI backend enabled.\n",
      "[Open3D INFO] WebRTCWindowSystem: HTTP handshake server disabled.\n"
     ]
    },
    {
     "name": "stderr",
     "output_type": "stream",
     "text": [
      "C:\\Progra~1\\Anaconda\\lib\\site-packages\\requests\\__init__.py:89: RequestsDependencyWarning: urllib3 (1.26.3) or chardet (3.0.4) doesn't match a supported version!\n",
      "  warnings.warn(\"urllib3 ({}) or chardet ({}) doesn't match a supported \"\n"
     ]
    }
   ],
   "source": [
    "import numpy as np\n",
    "import torch\n",
    "\n",
    "from torch.nn import functional as F\n",
    "from torch.utils.data import DataLoader\n",
    "import util\n",
    "import geometry\n",
    "import cv2\n",
    "import os \n",
    "import pdb\n",
    "import matplotlib.pyplot as plt\n",
    "from pyntcloud import PyntCloud\n",
    "from pyntcloud.plot import common as pyntcloud_common\n",
    "import pandas as pd\n",
    "import models\n",
    "import hdf5_dataio\n",
    "import glob\n",
    "import data_util\n",
    "from skimage.metrics import structural_similarity\n",
    "import open3d as o3d\n",
    "import matplotlib.colors as pltcolors\n",
    "\n",
    "\n",
    "import extracting_geometry\n",
    "import wandb\n",
    "%load_ext autoreload\n",
    "%autoreload 2"
   ]
  },
  {
   "cell_type": "code",
   "execution_count": 2,
   "metadata": {},
   "outputs": [],
   "source": [
    "checkpoint_path = 'YOUR MODEL CHECKPOINT PATH'\n",
    "network = 'relu' ##model parameters\n",
    "conditioning = 'hyper' ## model parameter\n",
    "data_root = 'LOCATION THE DATASET in hdf5 format'\n",
    "data_root_images = 'LOCATION OF THE DATASET (IMAGES)'\n",
    "img_sidelength = 128 ## model parameter\n",
    "max_num_instances = None ## model parameter\n",
    "specific_observation_idcs = [44] ## model parameter"
   ]
  },
  {
   "cell_type": "code",
   "execution_count": null,
   "metadata": {},
   "outputs": [],
   "source": [
    "state_dict = torch.load(checkpoint_path)\n",
    "num_instances = state_dict['latent_codes.weight'].shape[0]"
   ]
  },
  {
   "cell_type": "code",
   "execution_count": null,
   "metadata": {},
   "outputs": [],
   "source": [
    "model = models.LFAutoDecoder(num_instances=num_instances, latent_dim=256, parameterization='plucker', network=network,\n",
    "                             conditioning=conditioning).cuda()"
   ]
  },
  {
   "cell_type": "code",
   "execution_count": null,
   "metadata": {},
   "outputs": [],
   "source": [
    "model.load_state_dict(state_dict)\n",
    "model.eval()\n"
   ]
  },
  {
   "cell_type": "code",
   "execution_count": 3,
   "metadata": {},
   "outputs": [],
   "source": [
    "\"\"\"\n",
    "    specific_instances is a list of instances, e.g. ['instance_1', 'instance_2',...,'instance_n']\n",
    "    specific_poses is list of lists, where each list contains the poses you want to use for the point cloud.\n",
    "    A point cloud is constructed by creating a depth map, converting the 2D coords to 3D coords for each depth map\n",
    "    stacking those 3D coords such that we have more 3D points and finally construct the point clouds based on those points.\n",
    "    example of specific_poses = [[1,2,3], [1,2,3],...,[1,2,3]]\n",
    "    \n",
    "\"\"\"\n",
    "\n",
    "\n",
    "specific_instances = 'SPECIFY THE INSTANCES YOU WANT TO CREATE DEPTH MAPS AND POINT CLOUDS FOR'\n",
    "specific_poses = 'SPECIFY THE POSES YOU WANT TO USE FOR THE DEPTH MAPS AND POINT CLOUDS'\n",
    "\n",
    "assert len(specific_instances) == len(specific_poses) ## for each instance you need a list of poses..."
   ]
  },
  {
   "cell_type": "code",
   "execution_count": null,
   "metadata": {},
   "outputs": [],
   "source": [
    "for instance,poses in zip(specific_instances, specific_poses):\n",
    "    dataset = hdf5_dataio.SceneClassDataset(num_context=0,\n",
    "                                                data_root='LOCATION TO YOUR DATA DIRECTORY', \n",
    "                                                img_sidelength=img_sidelength,\n",
    "                                                num_trgt=1,\n",
    "                                                max_num_instances=1,\n",
    "                                                specific_observation_idcs=[64],\n",
    "                                                specific_instances=[instance],\n",
    "                                                specific_poses=[poses])\n",
    "    \n",
    "    dataloader = DataLoader(dataset, batch_size=1, shuffle=False, drop_last=True, num_workers=0)\n",
    "    output_dir = 'SPECIFY YOUR OUTPUT DIRECTORY'\n",
    "    depths,points,colors, pose_ids, rgb_ids,images = extracting_geometry.create_depth(dataloader,model)\n",
    "    util.plot_images(images, output_dir,'prediction')\n",
    "    extracting_geometry.construct_point_cloud(points,colors, 15.0,125, output_dir,'cloud')\n",
    "    extracting_geometry.plot_depth_maps(depths, output_dir,'depth')\n",
    "    util.write_text(pose_ids, output_dir, 'poses_depthmaps')\n",
    "    util.write_text(rgb_ids, output_dir, 'rgbs_depthmaps')\n",
    "    "
   ]
  },
  {
   "cell_type": "code",
   "execution_count": null,
   "metadata": {},
   "outputs": [],
   "source": []
  },
  {
   "cell_type": "code",
   "execution_count": null,
   "metadata": {},
   "outputs": [],
   "source": []
  }
 ],
 "metadata": {
  "kernelspec": {
   "display_name": "Python 3.8.5 ('base')",
   "language": "python",
   "name": "python3"
  },
  "language_info": {
   "codemirror_mode": {
    "name": "ipython",
    "version": 3
   },
   "file_extension": ".py",
   "mimetype": "text/x-python",
   "name": "python",
   "nbconvert_exporter": "python",
   "pygments_lexer": "ipython3",
   "version": "3.8.5"
  },
  "vscode": {
   "interpreter": {
    "hash": "6e61a4344227879a077d5be1efb177784cf1874796e6ee3c82cd79cdb18ba836"
   }
  }
 },
 "nbformat": 4,
 "nbformat_minor": 4
}
